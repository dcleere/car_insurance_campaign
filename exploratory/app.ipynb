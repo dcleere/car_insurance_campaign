{
 "cells": [
  {
   "cell_type": "markdown",
   "metadata": {},
   "source": [
    "#### Assumptions and Enhancements\n",
    "1. data is inputted in correct order as development data, no ID field\n",
    "2. need to add exceptions and handlers for when the data is not in the correct type\n",
    "3. need to code function to dump model and close api when finished"
   ]
  },
  {
   "cell_type": "code",
   "execution_count": null,
   "metadata": {},
   "outputs": [],
   "source": [
    "# dev notebook to build rest service for real time scoring\n",
    "from flask import Flask, request, jsonify\n",
    "from flask.logging import create_logger\n",
    "from flask_restful import Resource,Api\n",
    "import logging\n",
    "\n",
    "import pandas as pd\n",
    "import pickle\n",
    "import numpy as np\n",
    "#from exploratory import env, transforms\n",
    "import env, transforms\n",
    "\n",
    "app = Flask(__name__)\n",
    "api=Api(app)\n",
    "LOG = create_logger(app)\n",
    "LOG.setLevel(logging.INFO)\n",
    "\n",
    "# define cols\n",
    "cols = ['Age', 'Job', 'Marital', 'Education', 'Default', 'Balance',\n",
    "       'HHInsurance', 'CarLoan', 'LastContactDay', 'LastContactMonth',\n",
    "       'NoOfContacts', 'DaysPassed', 'PrevAttempts', 'Outcome', 'CallStart',\n",
    "       'CallEnd', 'CarInsurance', 'EducationEncoded']\n",
    "\n",
    "class CarInsuranceClassifier(Resource):\n",
    "    def post(self):\n",
    "        \"\"\"Performs prediction\n",
    "        \"\"\"\n",
    "        try:\n",
    "            with open(env.model_path+'best_xgb_cv.pkl', 'rb') as f:\n",
    "                model = pickle.load(f)\n",
    "        except:\n",
    "            LOG.info(\"JSON payload: %s json_payload\")\n",
    "            return \"Model not loaded\"\n",
    "        \n",
    "        # get data\n",
    "        json_payload = request.json\n",
    "        LOG.info(\"JSON payload: %s json_payload\")\n",
    "        \n",
    "        # convert to dataframe\n",
    "        df_to_score = pd.DataFrame(json_payload, columns = cols)\n",
    "        LOG.info(\"json coverted to dataframe\")\n",
    "\n",
    "        # impute missing\n",
    "        df_to_score_imp = transforms.impute_vars(df_to_score)\n",
    "        LOG.info(\"dataframe imputed for missing values\")\n",
    "\n",
    "        # create base table for scoring\n",
    "        df = transforms.get_features(df_to_score_imp)\n",
    "        LOG.info(\"dataframe transformed to model features\")\n",
    "\n",
    "        # convert to array as expected by the model\n",
    "        ar_to_score = df.to_numpy()\n",
    "        LOG.info(\"dataframe transformed to model features\")\n",
    "\n",
    "        # make prediction\n",
    "        prediction = list(model.predict(ar_to_score))\n",
    "        return jsonify({'prediction': prediction})\n",
    "\n",
    "api.add_resource(CarInsuranceClassifier,\"/predict\")  \n",
    "\n",
    "if __name__ == \"__main__\":\n",
    "    app.run(port=5000, debug=True, use_reloader=False)"
   ]
  }
 ],
 "metadata": {
  "kernelspec": {
   "display_name": "Python (3.7.2)",
   "language": "python",
   "name": "python372"
  },
  "language_info": {
   "codemirror_mode": {
    "name": "ipython",
    "version": 3
   },
   "file_extension": ".py",
   "mimetype": "text/x-python",
   "name": "python",
   "nbconvert_exporter": "python",
   "pygments_lexer": "ipython3",
   "version": "3.7.3"
  }
 },
 "nbformat": 4,
 "nbformat_minor": 2
}
